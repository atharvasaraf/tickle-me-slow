{
 "cells": [
  {
   "cell_type": "code",
   "execution_count": null,
   "metadata": {},
   "outputs": [],
   "source": [
    "import scipy.ndimage as sci\n",
    "import numpy as np\n",
    "import matplotlib.pyplot as plt\n",
    "import glob\n",
    "from PIL import Image\n",
    "import tensorflow as tf\n",
    "from tensorflow import keras\n"
   ]
  },
  {
   "cell_type": "code",
   "execution_count": null,
   "metadata": {},
   "outputs": [],
   "source": [
    "#Load Data and Pre-processing and Visualization\n",
    "def load_dataSet():\n",
    "    data = ['forward', 'left', 'right', 'idle']\n",
    "    X = []\n",
    "    sizes = []\n",
    "    for direction in data:\n",
    "        address = './' + direction + '/*.jpg'\n",
    "        file_list = glob.glob(address)\n",
    "        sizes.append(len(file_list))\n",
    "        print('len of {} is {}'.format(direction, len(file_list)))\n",
    "        for image in file_list:\n",
    "            x = Image.open(image)\n",
    "            x = np.array(x.convert('L'))\n",
    "            x = x / np.max(x)\n",
    "            X.append(x)\n",
    "    #lets define 0 as left, 1 as forward and 2 as right\n",
    "    y_forward = 1* np.ones((sizes[0],1))\n",
    "    y_left = np.zeros((sizes[1], 1))\n",
    "    y_right = 2*np.ones((sizes[2],1))\n",
    "    y_idle = 3*np.ones((sizes[3], 1))\n",
    "    Y = np.concatenate((y_forward, y_left, y_right, y_idle),axis=0)\n",
    "    sequence = np.arange(sum(sizes))\n",
    "    np.random.shuffle(sequence)\n",
    "    \n",
    "    X = np.array(X)\n",
    "    X = X[sequence, :]\n",
    "    Y = Y[sequence, :]\n",
    "    \n",
    "    return X, Y"
   ]
  },
  {
   "cell_type": "code",
   "execution_count": null,
   "metadata": {},
   "outputs": [],
   "source": [
    "X, Y = load_dataSet()"
   ]
  },
  {
   "cell_type": "code",
   "execution_count": null,
   "metadata": {},
   "outputs": [],
   "source": [
    "j = 1;\n",
    "plt.figure(figsize=(10,10))\n",
    "for i in np.random.randint(0, Y.shape[0], 9):\n",
    "    plt.subplot(3, 3, j)\n",
    "    plt.imshow(X[i],cmap=\"gray\")\n",
    "    plt.grid(False)\n",
    "    plt.xlabel('{}'.format(Y[i]))\n",
    "    j += 1\n",
    "plt.show()"
   ]
  },
  {
   "cell_type": "code",
   "execution_count": null,
   "metadata": {},
   "outputs": [],
   "source": [
    "model = keras.Sequential([\n",
    "    keras.layers.Flatten(input_shape= (X.shape[1], X.shape[2])),\n",
    "    keras.layers.Dense(64, activation=tf.nn.relu),\n",
    "    keras.layers.Dense(4, activation=tf.nn.softmax)\n",
    "])\n",
    "\n",
    "model.compile(optimizer='sgd',\n",
    "             loss='mean_squared_error',\n",
    "             metrics=['accuracy'])\n",
    "\n",
    "model.fit(X, Y, epochs=2)"
   ]
  },
  {
   "cell_type": "code",
   "execution_count": null,
   "metadata": {},
   "outputs": [],
   "source": [
    "data = ['forward', 'left', 'right', 'idle']\n",
    "X_test = []\n",
    "test_sizes = []\n",
    "for direction in data:\n",
    "    address = './' + direction + '_test/*.jpg'\n",
    "    file_list = glob.glob(address)\n",
    "    test_sizes.append(len(file_list))\n",
    "    print('len of {} is {}'.format(direction, len(file_list)))\n",
    "    for image in file_list:\n",
    "        x = Image.open(image)\n",
    "        x = np.array(x.convert('L'))\n",
    "        X_test.append(x)\n",
    "X_test = np.array(X_test)\n",
    "y_forward = 1* np.ones((test_sizes[0],1))\n",
    "y_left = np.zeros((test_sizes[1], 1))\n",
    "y_right = 2*np.ones((test_sizes[2],1))\n",
    "y_idle = 3*np.ones((test_sizes[3], 1))\n",
    "Y_test = np.concatenate((y_forward, y_left, y_right, y_idle),axis=0)\n",
    "test_loss, test_acc = model.evaluate(X_test, Y_test)\n",
    "print('Test accuracy:', test_acc)"
   ]
  },
  {
   "cell_type": "code",
   "execution_count": null,
   "metadata": {},
   "outputs": [],
   "source": []
  }
 ],
 "metadata": {
  "kernelspec": {
   "display_name": "Python 3",
   "language": "python",
   "name": "python3"
  },
  "language_info": {
   "codemirror_mode": {
    "name": "ipython",
    "version": 3
   },
   "file_extension": ".py",
   "mimetype": "text/x-python",
   "name": "python",
   "nbconvert_exporter": "python",
   "pygments_lexer": "ipython3",
   "version": "3.5.6"
  }
 },
 "nbformat": 4,
 "nbformat_minor": 2
}
