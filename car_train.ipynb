{
 "cells": [
  {
   "cell_type": "code",
   "execution_count": null,
   "metadata": {},
   "outputs": [],
   "source": [
    "import scipy.ndimage as sci\n",
    "import numpy as np\n",
    "import os\n",
    "import matplotlib.pyplot as plt\n",
    "import glob\n",
    "from PIL import Image\n",
    "import tensorflow as tf\n",
    "from tensorflow import keras\n",
    "from keras.utils import np_utils"
   ]
  },
  {
   "cell_type": "code",
   "execution_count": null,
   "metadata": {},
   "outputs": [],
   "source": [
    "#Load Data and Pre-processing and Visualization\n",
    "def load_dataSet():\n",
    "    data = ['forward', 'left', 'right', 'idle']\n",
    "    X = []\n",
    "    sizes = []\n",
    "    for direction in data:\n",
    "        address = './' + direction + '/*.jpg'\n",
    "        file_list = glob.glob(address)\n",
    "        sizes.append(len(file_list))\n",
    "        print('len of {} is {}'.format(direction, len(file_list)))\n",
    "        for image in file_list:\n",
    "            x = Image.open(image)\n",
    "            x = np.array(x.convert('L'))\n",
    "            x = x.astype('float32')/255\n",
    "            X.append(x)\n",
    "    #labels\n",
    "    y_forward = 0* np.ones((sizes[0],1))\n",
    "    y_left    = 1* np.ones((sizes[1],1))\n",
    "    y_right   = 2* np.ones((sizes[2],1))\n",
    "    y_idle    = 3* np.ones((sizes[3],1))\n",
    "    Y = np.concatenate((y_forward, y_left, y_right, y_idle),axis=0)\n",
    "    sequence = np.arange(sum(sizes))\n",
    "    np.random.shuffle(sequence)\n",
    "    \n",
    "    X = np.array(X)\n",
    "    X = X[sequence, :]\n",
    "    Y = Y[sequence, :]\n",
    "    np.save(\"X\", X)\n",
    "    np.save(\"Y\", Y)\n",
    "    return X, Y"
   ]
  },
  {
   "cell_type": "code",
   "execution_count": null,
   "metadata": {},
   "outputs": [],
   "source": [
    "def load_fromNumpy():\n",
    "    X = np.load(\"X.npy\")\n",
    "    Y = np.load(\"Y.npy\")\n",
    "    return X, Y"
   ]
  },
  {
   "cell_type": "code",
   "execution_count": null,
   "metadata": {},
   "outputs": [],
   "source": [
    "def show_someImages(X, Y):\n",
    "    j = 1;\n",
    "    plt.figure(figsize=(10,10))\n",
    "    for i in np.random.randint(0, Y.shape[0], 9):\n",
    "        plt.subplot(3, 3, j)\n",
    "        plt.imshow(X[i],cmap=\"gray\")\n",
    "        plt.grid(False)\n",
    "        plt.xlabel('{}'.format(Y[i]))\n",
    "        j += 1\n",
    "    plt.show()"
   ]
  },
  {
   "cell_type": "code",
   "execution_count": null,
   "metadata": {},
   "outputs": [],
   "source": [
    "def train_model(X, Y):\n",
    "#This block creates a shallow NN model and fits the data\n",
    "#checkpoints are stored in car_training\n",
    "#model will be saved in current directory\n",
    "\n",
    "    checkpoint_path = 'car_training/cp-{epoch:04d}.ckpt'\n",
    "    checkpoint_dir  = os.path.dirname(checkpoint_path)\n",
    "    cp_callback = tf.keras.callbacks.ModelCheckpoint(checkpoint_path,\n",
    "                                                    verbose=1,\n",
    "                                                    save_weights_only=True,\n",
    "                                                    period=5)\n",
    "    model = keras.Sequential([\n",
    "        keras.layers.Flatten(input_shape= (X.shape[1], X.shape[2])),\n",
    "        keras.layers.Dense(1024, activation=tf.nn.relu),\n",
    "        keras.layers.Dense(32, activation=tf.nn.relu),\n",
    "        keras.layers.Dense(4, activation=tf.nn.softmax)\n",
    "    ])\n",
    "    model.compile(optimizer='sgd',\n",
    "                 loss='mean_squared_error',\n",
    "                 metrics=['accuracy'])\n",
    "    model.save_weights(checkpoint_path.format(epoch=0))\n",
    "    model.fit(X, Y, epochs=20, callbacks=[cp_callback])\n",
    "    return model"
   ]
  },
  {
   "cell_type": "code",
   "execution_count": null,
   "metadata": {},
   "outputs": [],
   "source": [
    "def save_model(model):\n",
    "    model.save(\"lane_model.h5\")"
   ]
  },
  {
   "cell_type": "code",
   "execution_count": null,
   "metadata": {},
   "outputs": [],
   "source": [
    "def eval_testData(model):\n",
    "    data = ['forward', 'left', 'right', 'idle']\n",
    "    X_test = []\n",
    "    test_sizes = []\n",
    "    for direction in data:\n",
    "        address = './' + direction + '_test/*.jpg'\n",
    "        file_list = glob.glob(address)\n",
    "        test_sizes.append(len(file_list))\n",
    "        print('len of {}_test is {}'.format(direction, len(file_list)))\n",
    "        for image in file_list:\n",
    "            x = Image.open(image)\n",
    "            x = np.array(x.convert('L'))\n",
    "            X_test.append(x)\n",
    "    X_test = np.array(X_test)\n",
    "    #labels\n",
    "    #labels\n",
    "    y_forward = 0* np.ones((test_sizes[0],1))\n",
    "    y_left    = 1* np.ones((test_sizes[1],1))\n",
    "    y_right   = 2* np.ones((test_sizes[2],1))\n",
    "    y_idle    = 3* np.ones((test_sizes[3],1))\n",
    "    Y_test = np.concatenate((y_forward, y_left, y_right, y_idle),axis=0)\n",
    "    test_loss, test_acc = model.evaluate(X_test, Y_test)\n",
    "    print('Test accuracy: {:05.2f}%'.format(test_acc*100))"
   ]
  },
  {
   "cell_type": "code",
   "execution_count": null,
   "metadata": {},
   "outputs": [],
   "source": [
    "# Use either one:\n",
    "#X, Y = load_dataSet()\n",
    "#one-Hot encoding for Y if loaded from images:\n",
    "#Y = keras.utils.to_categorical(Y, 4)\n",
    "X, Y = load_fromNumpy()\n",
    "\n",
    "#Run this to show 9 Random Images\n",
    "show_someImages(X, Y)\n",
    "\n",
    "#Train & save the Model\n",
    "model = train_model(X, Y)\n",
    "save_model(model)\n",
    "\n",
    "#Evaluate Model on test data!\n",
    "eval_testData(model)"
   ]
  }
 ],
 "metadata": {
  "kernelspec": {
   "display_name": "Python 3",
   "language": "python",
   "name": "python3"
  },
  "language_info": {
   "codemirror_mode": {
    "name": "ipython",
    "version": 3
   },
   "file_extension": ".py",
   "mimetype": "text/x-python",
   "name": "python",
   "nbconvert_exporter": "python",
   "pygments_lexer": "ipython3",
   "version": "3.5.6"
  }
 },
 "nbformat": 4,
 "nbformat_minor": 2
}
