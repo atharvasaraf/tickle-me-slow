{
 "cells": [
  {
   "cell_type": "code",
   "execution_count": null,
   "metadata": {},
   "outputs": [],
   "source": [
    "import scipy.ndimage as sci\n",
    "import numpy as np\n",
    "import os\n",
    "import matplotlib.pyplot as plt\n",
    "import glob\n",
    "from PIL import Image\n",
    "import tensorflow as tf\n",
    "from tensorflow import keras\n",
    "from keras.utils import np_utils\n",
    "%matplotlib inline"
   ]
  },
  {
   "cell_type": "code",
   "execution_count": null,
   "metadata": {},
   "outputs": [],
   "source": [
    "def show_someImages(X, Y):\n",
    "    j = 1;\n",
    "    plt.figure(figsize=(10,10))\n",
    "    for i in np.random.randint(0, X.shape[0], 9):\n",
    "        plt.subplot(3, 3, j)\n",
    "        plt.imshow(X[i],cmap=\"gray\")\n",
    "        plt.grid(False)\n",
    "        plt.xlabel('{}'.format(Y[i]))\n",
    "        j += 1\n",
    "    plt.show()"
   ]
  },
  {
   "cell_type": "code",
   "execution_count": null,
   "metadata": {},
   "outputs": [],
   "source": [
    "#Enter your extention here\n",
    "ext = '.jpg'\n",
    "size_x = 640\n",
    "size_y = 240\n",
    "X = []\n",
    "# This is just to run predictions from a folder called predicdtions\n",
    "# In realtime, input images will be camera feeds\n",
    "address = './predictions/*' + ext\n",
    "size = len(file_list)\n",
    "for i in file_list:\n",
    "    image = Image.open(i)\n",
    "    image = image.convert('L')\n",
    "    if not (np.array(image).shape == (240, 640)):\n",
    "        image = image.resize((size_x, size_y), Image.ANTIALIAS)\n",
    "    X.append(np.array(image))\n",
    "X = np.array(X)\n",
    "print('Loaded {} Input Images'.format(X.shape[0]))"
   ]
  },
  {
   "cell_type": "code",
   "execution_count": null,
   "metadata": {},
   "outputs": [],
   "source": [
    "#Loading the Model\n",
    "model = keras.models.load_model('lane_model.h5')\n",
    "predictions = model.predict(X)"
   ]
  },
  {
   "cell_type": "code",
   "execution_count": null,
   "metadata": {},
   "outputs": [],
   "source": [
    "#One-Hot Encoding Back to Directions\n",
    "temp, lol = np.where(predictions == 1)\n",
    "directions = ['forward', 'left', 'right', 'idle']\n",
    "lol = [directions[i] for i in lol]"
   ]
  },
  {
   "cell_type": "code",
   "execution_count": null,
   "metadata": {},
   "outputs": [],
   "source": [
    "#Display the predictions!\n",
    "show_someImages(X, lol)"
   ]
  }
 ],
 "metadata": {
  "kernelspec": {
   "display_name": "Python 3",
   "language": "python",
   "name": "python3"
  },
  "language_info": {
   "codemirror_mode": {
    "name": "ipython",
    "version": 3
   },
   "file_extension": ".py",
   "mimetype": "text/x-python",
   "name": "python",
   "nbconvert_exporter": "python",
   "pygments_lexer": "ipython3",
   "version": "3.5.6"
  }
 },
 "nbformat": 4,
 "nbformat_minor": 2
}
